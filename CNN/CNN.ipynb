{
 "cells": [
  {
   "cell_type": "markdown",
   "metadata": {},
   "source": [
    "Firstly, check whether your computer can use the GPU:"
   ]
  },
  {
   "cell_type": "code",
   "execution_count": 3,
   "metadata": {},
   "outputs": [],
   "source": [
    "import torch\n",
    "\n",
    "use_cuda = torch.cuda.is_available()"
   ]
  },
  {
   "cell_type": "markdown",
   "metadata": {},
   "source": [
    "Then, load data from hard disk or public database.\n",
    "Here, I will download data from MINST"
   ]
  },
  {
   "cell_type": "code",
   "execution_count": 8,
   "metadata": {},
   "outputs": [
    {
     "name": "stdout",
     "output_type": "stream",
     "text": [
      "==> total training batch number: 600\n",
      "==> total testing batch number: 100\n"
     ]
    }
   ],
   "source": [
    "import torchvision.datasets as dset\n",
    "import torchvision.transforms as transforms\n",
    "\n",
    "# construct transform object to normalize data\n",
    "# transforms.ToTensor() used to change numpy->tensor\n",
    "# transforms.Normalize((0.5,), (1, )): normalize data with mean = 0.5, std = 1. \n",
    "# Only one channel, we only need one pair of them\n",
    "trans = transforms.Compose([transforms.ToTensor(), transforms.Normalize((0.5,), (1, ))])\n",
    "\n",
    "#if not exist dataset folder './data', download from torch.datasets\n",
    "train_set = dset.MNIST(root='data', train=True, transform=trans, download=True)\n",
    "test_set = dset.MNIST(root='data', train=False, transform=trans, download=True)\n",
    "\n",
    "batch_size = 100\n",
    "train_iter = torch.utils.data.DataLoader(dataset=train_set, batch_size=batch_size, shuffle=True)\n",
    "test_iter = torch.utils.data.DataLoader(dataset=test_set, batch_size=batch_size, shuffle=False)\n",
    "\n",
    "print(\"==> total training batch number: {}\".format(len(train_iter)))\n",
    "print(\"==> total testing batch number: {}\".format(len(test_iter)))"
   ]
  },
  {
   "cell_type": "markdown",
   "metadata": {},
   "source": [
    "Then, build the model"
   ]
  },
  {
   "cell_type": "code",
   "execution_count": null,
   "metadata": {},
   "outputs": [],
   "source": [
    "import torch.nn as nn\n",
    "import torch.functional as F\n",
    "class CNN(nn.Module):\n",
    "    def __init__(self):\n",
    "        super.__init__(CNN, self)\n",
    "        # Convlutional layer 1:\n",
    "        # input size: 28 * 28 * 1\n",
    "        # kernal size: 1 * 1 * 6\n",
    "        # output size: 28 * 28 * 6\n",
    "        self.conv1 = nn.Conv2d(in_channels=1, out_channels=6, kernel_size=1)\n",
    "            \n",
    "        # pooling layer 1:\n",
    "        # pooling size: 2\n",
    "        # pooling type: max pooling\n",
    "        # input size: 28 * 28 * 6\n",
    "        # output size: 14 * 14 * 6\n",
    "        self.pool1 = nn.MaxPool2d(2)\n",
    "            \n",
    "        # Convolutional layer 2:\n",
    "        # input size: 14 * 14 * 6\n",
    "        # kernal size: 5 * 5 * 16\n",
    "        # output size: 10 * 10 * 16\n",
    "        self.conv2 = nn.Conv2d(in_channels=6, out_channels=16, kernal_size=5)\n",
    "            \n",
    "        # Pooling layer 2:\n",
    "        # pooling size: 2, max\n",
    "        # input size: 10 * 10 * 16\n",
    "        # output size: 5 * 5 * 16\n",
    "        self.pool2 = nn.MaxPool2d(2)\n",
    "            \n",
    "        # fully connection layer1:\n",
    "        self.fc1 = nn.Linear(5 * 5 * 16, 120)\n",
    "            \n",
    "        # fully connection layer2:\n",
    "        self.fc2 = nn.Linear(120, 84)\n",
    "            \n",
    "        # fully connection layer3:\n",
    "        self.fc3 = nn.Linear(84, 10)\n",
    "    \n",
    "    def forward(self, x):\n",
    "        x = F.relu(self.conv1(x))\n",
    "        x = self.pool1(x)\n",
    "        x = F.relu(self.conv2(x))\n",
    "        x = self.pool2(x)\n",
    "        # flaten the 16 dimensional data to one dimension\n",
    "        x = x.view(x.size()[0], -1)\n",
    "        x = F.relu(self.fc1(x))\n",
    "        x = F.relu(self.fc2(x))\n",
    "        x = self.fc3(x)\n",
    "        return x\n",
    "\n",
    "\n",
    "        "
   ]
  },
  {
   "cell_type": "markdown",
   "metadata": {},
   "source": [
    "Create an instance of the CNN module"
   ]
  },
  {
   "cell_type": "code",
   "execution_count": null,
   "metadata": {},
   "outputs": [],
   "source": [
    "cnn_network = CNN()\n",
    "if use_cuda:\n",
    "    cnn_network = cnn_network.cuda()"
   ]
  }
 ],
 "metadata": {
  "kernelspec": {
   "display_name": "Python 3",
   "language": "python",
   "name": "python3"
  },
  "language_info": {
   "codemirror_mode": {
    "name": "ipython",
    "version": 3
   },
   "file_extension": ".py",
   "mimetype": "text/x-python",
   "name": "python",
   "nbconvert_exporter": "python",
   "pygments_lexer": "ipython3",
   "version": "3.7.7"
  }
 },
 "nbformat": 4,
 "nbformat_minor": 4
}
