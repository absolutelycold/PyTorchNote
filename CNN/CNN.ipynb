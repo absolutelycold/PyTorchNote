{
 "cells": [
  {
   "cell_type": "markdown",
   "metadata": {},
   "source": [
    "Firstly, check whether your computer can use the GPU:"
   ]
  },
  {
   "cell_type": "code",
   "execution_count": 1,
   "metadata": {},
   "outputs": [],
   "source": [
    "import torch\n",
    "\n",
    "use_cuda = torch.cuda.is_available()"
   ]
  },
  {
   "cell_type": "markdown",
   "metadata": {},
   "source": [
    "Then, load data from hard disk or public database.\n",
    "Here, I will download data from MINST"
   ]
  },
  {
   "cell_type": "code",
   "execution_count": 2,
   "metadata": {},
   "outputs": [
    {
     "name": "stdout",
     "output_type": "stream",
     "text": [
      "==> total training batch number: 600\n",
      "==> total testing batch number: 100\n"
     ]
    }
   ],
   "source": [
    "import torchvision.datasets as dset\n",
    "import torchvision.transforms as transforms\n",
    "\n",
    "# construct transform object to normalize data\n",
    "# transforms.ToTensor() used to change numpy->tensor\n",
    "# transforms.Normalize((0.5,), (1, )): normalize data with mean = 0.5, std = 1. \n",
    "# Only one channel, we only need one pair of them\n",
    "trans = transforms.Compose([transforms.ToTensor(), transforms.Normalize((0.5,), (1, ))])\n",
    "\n",
    "#if not exist dataset folder './data', download from torch.datasets\n",
    "train_set = dset.MNIST(root='data', train=True, transform=trans, download=True)\n",
    "test_set = dset.MNIST(root='data', train=False, transform=trans, download=True)\n",
    "\n",
    "batch_size = 100\n",
    "train_iter = torch.utils.data.DataLoader(dataset=train_set, batch_size=batch_size, shuffle=True)\n",
    "test_iter = torch.utils.data.DataLoader(dataset=test_set, batch_size=batch_size, shuffle=False)\n",
    "\n",
    "print(\"==> total training batch number: {}\".format(len(train_iter)))\n",
    "print(\"==> total testing batch number: {}\".format(len(test_iter)))"
   ]
  },
  {
   "cell_type": "markdown",
   "metadata": {},
   "source": [
    "Then, build the model"
   ]
  },
  {
   "cell_type": "code",
   "execution_count": 3,
   "metadata": {},
   "outputs": [],
   "source": [
    "import torch.nn as nn\n",
    "import torch.nn.functional as F\n",
    "class CNN(nn.Module):\n",
    "    def __init__(self):\n",
    "        super(CNN, self).__init__()\n",
    "        # Convlutional layer 1:\n",
    "        # input size: 28 * 28 * 1\n",
    "        # kernal size: 1 * 1 * 6\n",
    "        # output size: 28 * 28 * 6\n",
    "        self.conv1 = nn.Conv2d(in_channels=1, out_channels=6, kernel_size=1)\n",
    "            \n",
    "        # pooling layer 1:\n",
    "        # pooling size: 2\n",
    "        # pooling type: max pooling\n",
    "        # input size: 28 * 28 * 6\n",
    "        # output size: 14 * 14 * 6\n",
    "        self.pool1 = nn.MaxPool2d(2)\n",
    "            \n",
    "        # Convolutional layer 2:\n",
    "        # input size: 14 * 14 * 6\n",
    "        # kernal size: 5 * 5 * 16\n",
    "        # output size: 10 * 10 * 16\n",
    "        self.conv2 = nn.Conv2d(in_channels=6, out_channels=16, kernel_size=5)\n",
    "            \n",
    "        # Pooling layer 2:\n",
    "        # pooling size: 2, max\n",
    "        # input size: 10 * 10 * 16\n",
    "        # output size: 5 * 5 * 16\n",
    "        self.pool2 = nn.MaxPool2d(2)\n",
    "            \n",
    "        # fully connection layer1:\n",
    "        self.fc1 = nn.Linear(5 * 5 * 16, 120)\n",
    "            \n",
    "        # fully connection layer2:\n",
    "        self.fc2 = nn.Linear(120, 84)\n",
    "            \n",
    "        # fully connection layer3:\n",
    "        self.fc3 = nn.Linear(84, 10)\n",
    "    \n",
    "    def forward(self, x):\n",
    "        x = F.relu(self.conv1(x))\n",
    "        x = self.pool1(x)\n",
    "        x = F.relu(self.conv2(x))\n",
    "        x = self.pool2(x)\n",
    "        # flaten the 16 dimensional data to one dimension\n",
    "        x = x.view(x.size()[0], -1)\n",
    "        x = F.relu(self.fc1(x))\n",
    "        x = F.relu(self.fc2(x))\n",
    "        x = self.fc3(x)\n",
    "        return x\n",
    "\n",
    "\n",
    "        "
   ]
  },
  {
   "cell_type": "markdown",
   "metadata": {},
   "source": [
    "Create an instance of the CNN module"
   ]
  },
  {
   "cell_type": "code",
   "execution_count": 4,
   "metadata": {},
   "outputs": [],
   "source": [
    "import torch.optim as optim\n",
    "cnn_network = CNN()\n",
    "if use_cuda:\n",
    "    cnn_network = cnn_network.cuda()\n",
    "\n",
    "criterion = nn.CrossEntropyLoss()\n",
    "optimizer = optim.SGD(cnn_network.parameters(), lr=0.01, momentum=0.9)"
   ]
  },
  {
   "cell_type": "markdown",
   "metadata": {},
   "source": [
    "Training the cnn_network:"
   ]
  },
  {
   "cell_type": "code",
   "execution_count": 5,
   "metadata": {},
   "outputs": [
    {
     "name": "stdout",
     "output_type": "stream",
     "text": [
      "epoch: 1, index: 100, training loss: 2.300464\n",
      "epoch: 1, index: 200, training loss: 2.297294\n",
      "epoch: 1, index: 300, training loss: 2.287309\n",
      "epoch: 1, index: 400, training loss: 2.132568\n",
      "epoch: 1, index: 500, training loss: 1.827121\n",
      "epoch: 1, index: 600, training loss: 1.580111\n",
      "epoch: 2, index: 100, training loss: 0.237277\n",
      "epoch: 2, index: 200, training loss: 0.213630\n",
      "epoch: 2, index: 300, training loss: 0.193218\n",
      "epoch: 2, index: 400, training loss: 0.179362\n",
      "epoch: 2, index: 500, training loss: 0.169080\n",
      "epoch: 2, index: 600, training loss: 0.160550\n",
      "epoch: 3, index: 100, training loss: 0.111606\n",
      "epoch: 3, index: 200, training loss: 0.102187\n",
      "epoch: 3, index: 300, training loss: 0.097299\n",
      "epoch: 3, index: 400, training loss: 0.095118\n",
      "epoch: 3, index: 500, training loss: 0.090841\n",
      "epoch: 3, index: 600, training loss: 0.087964\n",
      "epoch: 4, index: 100, training loss: 0.082587\n",
      "epoch: 4, index: 200, training loss: 0.075017\n",
      "epoch: 4, index: 300, training loss: 0.072330\n",
      "epoch: 4, index: 400, training loss: 0.071140\n",
      "epoch: 4, index: 500, training loss: 0.069711\n",
      "epoch: 4, index: 600, training loss: 0.068757\n",
      "epoch: 5, index: 100, training loss: 0.060662\n",
      "epoch: 5, index: 200, training loss: 0.059983\n",
      "epoch: 5, index: 300, training loss: 0.057436\n",
      "epoch: 5, index: 400, training loss: 0.056887\n",
      "epoch: 5, index: 500, training loss: 0.056792\n",
      "epoch: 5, index: 600, training loss: 0.055918\n"
     ]
    }
   ],
   "source": [
    "# Traning the CNN network:\n",
    "epochs = 5\n",
    "for epoch in range(epochs):\n",
    "    avg_loss = 0\n",
    "    for batch_index, (X, target) in enumerate(train_iter):\n",
    "        # no need to transfer type to tensor\n",
    "        # because we already use transform object to transform.toTensor when loading the MINST data\n",
    "        \n",
    "        if use_cuda:\n",
    "            X, target = X.cuda(), target.cuda()\n",
    "        \n",
    "        # clear gradient for each batch\n",
    "        optimizer.zero_grad()\n",
    "        \n",
    "        # feed forward:\n",
    "        output = cnn_network.forward(X)\n",
    "        loss = criterion(output, target)\n",
    "        avg_loss += loss.item()\n",
    "        \n",
    "        # backpropagation\n",
    "        loss.backward()  # calculate error backpropagation and delta w\n",
    "        optimizer.step()  # updare all parameters\n",
    "        \n",
    "        # print loss:\n",
    "        if (batch_index + 1) % 100 == 0 or (batch_index + 1) == len(train_iter):\n",
    "            print(\"epoch: {}, index: {}, training loss: {:.06f}\".format(\n",
    "                epoch + 1, batch_index + 1, avg_loss / (batch_index + 1)))\n",
    "            \n",
    "            "
   ]
  },
  {
   "cell_type": "markdown",
   "metadata": {},
   "source": [
    "Test the performance on test set:"
   ]
  },
  {
   "cell_type": "code",
   "execution_count": 7,
   "metadata": {},
   "outputs": [
    {
     "name": "stdout",
     "output_type": "stream",
     "text": [
      "epoch: 5, index: 100, test accuracy: 0.978\n"
     ]
    }
   ],
   "source": [
    "# Testing\n",
    "correct_cnt = 0\n",
    "total_cnt = 0\n",
    "for batch_index, (X, target) in enumerate(test_iter):\n",
    "    if use_cuda:\n",
    "        X, target = X.cuda(), target.cuda()\n",
    "    \n",
    "    # get the ouput:\n",
    "    output = cnn_network.forward(X)\n",
    "\n",
    "    # select the class with maximum probability:\n",
    "    _, pred_lable = torch.max(output, 1)\n",
    "    \n",
    "    total_cnt += X.size()[0]\n",
    "    correct_cnt += (target == pred_lable).sum()\n",
    "    \n",
    "    # print the accuracy:\n",
    "    if (batch_index + 1) % 100 == 0 or (batch_index + 1) == len(test_iter):\n",
    "        print(\"epoch: {}, index: {}, test accuracy: {:.03f}\".format(\n",
    "            epoch + 1, batch_index + 1, correct_cnt * 1.0 / total_cnt))\n",
    "    "
   ]
  }
 ],
 "metadata": {
  "kernelspec": {
   "display_name": "Python 3",
   "language": "python",
   "name": "python3"
  },
  "language_info": {
   "codemirror_mode": {
    "name": "ipython",
    "version": 3
   },
   "file_extension": ".py",
   "mimetype": "text/x-python",
   "name": "python",
   "nbconvert_exporter": "python",
   "pygments_lexer": "ipython3",
   "version": "3.7.7"
  }
 },
 "nbformat": 4,
 "nbformat_minor": 4
}
